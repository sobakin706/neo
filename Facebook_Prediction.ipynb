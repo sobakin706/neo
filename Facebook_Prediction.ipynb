{
  "cells": [
    {
      "cell_type": "markdown",
      "metadata": {
        "id": "view-in-github",
        "colab_type": "text"
      },
      "source": [
        "<a href=\"https://colab.research.google.com/github/sobakin706/neo/blob/main/Facebook_Prediction.ipynb\" target=\"_parent\"><img src=\"https://colab.research.google.com/assets/colab-badge.svg\" alt=\"Open In Colab\"/></a>"
      ]
    },
    {
      "cell_type": "code",
      "execution_count": 1,
      "metadata": {
        "id": "0wN6eSTMq0mR"
      },
      "outputs": [],
      "source": [
        "import random\n",
        "from tqdm import tqdm\n",
        "import networkx as nx\n",
        "from zipfile import ZipFile\n",
        "import pandas as pd\n",
        "import numpy as np\n",
        "import matplotlib.pyplot as plt\n",
        "import seaborn as sns\n",
        "%matplotlib inline\n",
        " \n",
        "from warnings import simplefilter\n",
        "from sklearn.exceptions import ConvergenceWarning\n",
        "simplefilter(\"ignore\", category=ConvergenceWarning)"
      ]
    },
    {
      "cell_type": "code",
      "execution_count": 2,
      "metadata": {
        "colab": {
          "base_uri": "https://localhost:8080/"
        },
        "id": "ZREPTJcD_6T3",
        "outputId": "c8004d6c-cec3-434c-fafe-d25fa91294c2"
      },
      "outputs": [
        {
          "output_type": "stream",
          "name": "stdout",
          "text": [
            "--2022-09-12 18:01:14--  https://github.com/abcom-mltutorials/Facebook-Social-Network-Analysis/archive/master.zip\n",
            "Resolving github.com (github.com)... 20.27.177.113\n",
            "Connecting to github.com (github.com)|20.27.177.113|:443... connected.\n",
            "HTTP request sent, awaiting response... 302 Found\n",
            "Location: https://codeload.github.com/abcom-mltutorials/Facebook-Social-Network-Analysis/zip/refs/heads/master [following]\n",
            "--2022-09-12 18:01:14--  https://codeload.github.com/abcom-mltutorials/Facebook-Social-Network-Analysis/zip/refs/heads/master\n",
            "Resolving codeload.github.com (codeload.github.com)... 20.27.177.114\n",
            "Connecting to codeload.github.com (codeload.github.com)|20.27.177.114|:443... connected.\n",
            "HTTP request sent, awaiting response... 200 OK\n",
            "Length: unspecified [application/zip]\n",
            "Saving to: ‘/content/master.zip’\n",
            "\n",
            "master.zip              [   <=>              ]   1.35M  2.88MB/s    in 0.5s    \n",
            "\n",
            "2022-09-12 18:01:15 (2.88 MB/s) - ‘/content/master.zip’ saved [1415226]\n",
            "\n"
          ]
        }
      ],
      "source": [
        "!wget https://github.com/abcom-mltutorials/Facebook-Social-Network-Analysis/archive/master.zip -P \"/content\"\n",
        "ZipFile(\"/content/master.zip\").extractall(\"/content/\")"
      ]
    },
    {
      "cell_type": "code",
      "execution_count": 3,
      "metadata": {
        "id": "ZXm92k-OADeR"
      },
      "outputs": [],
      "source": [
        "G = nx.read_gpickle('/content/Facebook-Social-Network-Analysis-master/Graph.pickle')\n",
        "df1 = pd.read_csv('/content/Facebook-Social-Network-Analysis-master/df1.csv', index_col=[0])\n",
        "                  "
      ]
    },
    {
      "cell_type": "code",
      "execution_count": 4,
      "metadata": {
        "colab": {
          "base_uri": "https://localhost:8080/"
        },
        "id": "MQv_G_1yg7Gl",
        "outputId": "45e22e55-89b2-4e57-ebf3-0255861e72db"
      },
      "outputs": [
        {
          "output_type": "execute_result",
          "data": {
            "text/plain": [
              "<bound method NDFrame.head of        Node 1  Node 2  Connection\n",
              "0           2       3           0\n",
              "1           2      10           0\n",
              "2           2      24           0\n",
              "3           2     254           0\n",
              "4           2     265           0\n",
              "...       ...     ...         ...\n",
              "50586    3902    3926           1\n",
              "50587    3902    3930           1\n",
              "50588    3902    3938           1\n",
              "50589    3926    3930           1\n",
              "50590    3926    3938           1\n",
              "\n",
              "[50591 rows x 3 columns]>"
            ]
          },
          "metadata": {},
          "execution_count": 4
        }
      ],
      "source": [
        "df1.head"
      ]
    },
    {
      "cell_type": "code",
      "execution_count": 5,
      "metadata": {
        "colab": {
          "base_uri": "https://localhost:8080/"
        },
        "id": "d8wgJP2MzpW4",
        "outputId": "ef7fd745-6808-4ee0-8cb8-2231608d4456"
      },
      "outputs": [
        {
          "output_type": "stream",
          "name": "stdout",
          "text": [
            "Graph with 1295 nodes and 18321 edges\n"
          ]
        }
      ],
      "source": [
        "print(nx.info(G))"
      ]
    },
    {
      "cell_type": "code",
      "execution_count": 6,
      "metadata": {
        "colab": {
          "base_uri": "https://localhost:8080/",
          "height": 237
        },
        "id": "fI_0AXjrAk1c",
        "outputId": "38612412-cdc4-4fde-cceb-cca5d99465de"
      },
      "outputs": [
        {
          "output_type": "execute_result",
          "data": {
            "text/plain": [
              "          Connection\n",
              "Edges               \n",
              "(2, 3)             0\n",
              "(2, 10)            0\n",
              "(2, 24)            0\n",
              "(2, 254)           1\n",
              "(2, 265)           1"
            ],
            "text/html": [
              "\n",
              "  <div id=\"df-eec7143b-77ef-4d8f-9aca-9ac8b7fde3c5\">\n",
              "    <div class=\"colab-df-container\">\n",
              "      <div>\n",
              "<style scoped>\n",
              "    .dataframe tbody tr th:only-of-type {\n",
              "        vertical-align: middle;\n",
              "    }\n",
              "\n",
              "    .dataframe tbody tr th {\n",
              "        vertical-align: top;\n",
              "    }\n",
              "\n",
              "    .dataframe thead th {\n",
              "        text-align: right;\n",
              "    }\n",
              "</style>\n",
              "<table border=\"1\" class=\"dataframe\">\n",
              "  <thead>\n",
              "    <tr style=\"text-align: right;\">\n",
              "      <th></th>\n",
              "      <th>Connection</th>\n",
              "    </tr>\n",
              "    <tr>\n",
              "      <th>Edges</th>\n",
              "      <th></th>\n",
              "    </tr>\n",
              "  </thead>\n",
              "  <tbody>\n",
              "    <tr>\n",
              "      <th>(2, 3)</th>\n",
              "      <td>0</td>\n",
              "    </tr>\n",
              "    <tr>\n",
              "      <th>(2, 10)</th>\n",
              "      <td>0</td>\n",
              "    </tr>\n",
              "    <tr>\n",
              "      <th>(2, 24)</th>\n",
              "      <td>0</td>\n",
              "    </tr>\n",
              "    <tr>\n",
              "      <th>(2, 254)</th>\n",
              "      <td>1</td>\n",
              "    </tr>\n",
              "    <tr>\n",
              "      <th>(2, 265)</th>\n",
              "      <td>1</td>\n",
              "    </tr>\n",
              "  </tbody>\n",
              "</table>\n",
              "</div>\n",
              "      <button class=\"colab-df-convert\" onclick=\"convertToInteractive('df-eec7143b-77ef-4d8f-9aca-9ac8b7fde3c5')\"\n",
              "              title=\"Convert this dataframe to an interactive table.\"\n",
              "              style=\"display:none;\">\n",
              "        \n",
              "  <svg xmlns=\"http://www.w3.org/2000/svg\" height=\"24px\"viewBox=\"0 0 24 24\"\n",
              "       width=\"24px\">\n",
              "    <path d=\"M0 0h24v24H0V0z\" fill=\"none\"/>\n",
              "    <path d=\"M18.56 5.44l.94 2.06.94-2.06 2.06-.94-2.06-.94-.94-2.06-.94 2.06-2.06.94zm-11 1L8.5 8.5l.94-2.06 2.06-.94-2.06-.94L8.5 2.5l-.94 2.06-2.06.94zm10 10l.94 2.06.94-2.06 2.06-.94-2.06-.94-.94-2.06-.94 2.06-2.06.94z\"/><path d=\"M17.41 7.96l-1.37-1.37c-.4-.4-.92-.59-1.43-.59-.52 0-1.04.2-1.43.59L10.3 9.45l-7.72 7.72c-.78.78-.78 2.05 0 2.83L4 21.41c.39.39.9.59 1.41.59.51 0 1.02-.2 1.41-.59l7.78-7.78 2.81-2.81c.8-.78.8-2.07 0-2.86zM5.41 20L4 18.59l7.72-7.72 1.47 1.35L5.41 20z\"/>\n",
              "  </svg>\n",
              "      </button>\n",
              "      \n",
              "  <style>\n",
              "    .colab-df-container {\n",
              "      display:flex;\n",
              "      flex-wrap:wrap;\n",
              "      gap: 12px;\n",
              "    }\n",
              "\n",
              "    .colab-df-convert {\n",
              "      background-color: #E8F0FE;\n",
              "      border: none;\n",
              "      border-radius: 50%;\n",
              "      cursor: pointer;\n",
              "      display: none;\n",
              "      fill: #1967D2;\n",
              "      height: 32px;\n",
              "      padding: 0 0 0 0;\n",
              "      width: 32px;\n",
              "    }\n",
              "\n",
              "    .colab-df-convert:hover {\n",
              "      background-color: #E2EBFA;\n",
              "      box-shadow: 0px 1px 2px rgba(60, 64, 67, 0.3), 0px 1px 3px 1px rgba(60, 64, 67, 0.15);\n",
              "      fill: #174EA6;\n",
              "    }\n",
              "\n",
              "    [theme=dark] .colab-df-convert {\n",
              "      background-color: #3B4455;\n",
              "      fill: #D2E3FC;\n",
              "    }\n",
              "\n",
              "    [theme=dark] .colab-df-convert:hover {\n",
              "      background-color: #434B5C;\n",
              "      box-shadow: 0px 1px 3px 1px rgba(0, 0, 0, 0.15);\n",
              "      filter: drop-shadow(0px 1px 2px rgba(0, 0, 0, 0.3));\n",
              "      fill: #FFFFFF;\n",
              "    }\n",
              "  </style>\n",
              "\n",
              "      <script>\n",
              "        const buttonEl =\n",
              "          document.querySelector('#df-eec7143b-77ef-4d8f-9aca-9ac8b7fde3c5 button.colab-df-convert');\n",
              "        buttonEl.style.display =\n",
              "          google.colab.kernel.accessAllowed ? 'block' : 'none';\n",
              "\n",
              "        async function convertToInteractive(key) {\n",
              "          const element = document.querySelector('#df-eec7143b-77ef-4d8f-9aca-9ac8b7fde3c5');\n",
              "          const dataTable =\n",
              "            await google.colab.kernel.invokeFunction('convertToInteractive',\n",
              "                                                     [key], {});\n",
              "          if (!dataTable) return;\n",
              "\n",
              "          const docLinkHtml = 'Like what you see? Visit the ' +\n",
              "            '<a target=\"_blank\" href=https://colab.research.google.com/notebooks/data_table.ipynb>data table notebook</a>'\n",
              "            + ' to learn more about interactive tables.';\n",
              "          element.innerHTML = '';\n",
              "          dataTable['output_type'] = 'display_data';\n",
              "          await google.colab.output.renderOutput(dataTable, element);\n",
              "          const docLink = document.createElement('div');\n",
              "          docLink.innerHTML = docLinkHtml;\n",
              "          element.appendChild(docLink);\n",
              "        }\n",
              "      </script>\n",
              "    </div>\n",
              "  </div>\n",
              "  "
            ]
          },
          "metadata": {},
          "execution_count": 6
        }
      ],
      "source": [
        "#making a copy of the original dataframe\n",
        "df_2 = df1.copy()\n",
        " \n",
        "#sorting according to the nodes\n",
        "df_2.sort_values(['Node 1', 'Node 2'], inplace=True)\n",
        " \n",
        "#getting the two nodes in a row in a tuple, i.e (Node 1, Node 2) and adding then to a new Edges column\n",
        "edges = [(df1.iloc[i,0],df1.iloc[i,1]) for i in range(df1.shape[0])]\n",
        "df_2['Edges'] = edges\n",
        " \n",
        "#dropping the Node 1 and Node 2 columns and setting the Edges column as index\n",
        "df_2.drop(columns=df_2.columns[:2], inplace=True)\n",
        "df_2.set_index('Edges', inplace=True)\n",
        " \n",
        "df_2.head()"
      ]
    },
    {
      "cell_type": "code",
      "execution_count": 7,
      "metadata": {
        "colab": {
          "base_uri": "https://localhost:8080/",
          "height": 237
        },
        "id": "5McWB4NYYLFZ",
        "outputId": "4631a47a-6408-4547-9268-af7b5c3174a0"
      },
      "outputs": [
        {
          "output_type": "execute_result",
          "data": {
            "text/plain": [
              "              Connection\n",
              "Edges                   \n",
              "(3902, 3926)           1\n",
              "(3902, 3930)           1\n",
              "(3902, 3938)           1\n",
              "(3926, 3930)           1\n",
              "(3926, 3938)           1"
            ],
            "text/html": [
              "\n",
              "  <div id=\"df-20c58e4e-aa8a-4510-9272-7c2dec28e6ab\">\n",
              "    <div class=\"colab-df-container\">\n",
              "      <div>\n",
              "<style scoped>\n",
              "    .dataframe tbody tr th:only-of-type {\n",
              "        vertical-align: middle;\n",
              "    }\n",
              "\n",
              "    .dataframe tbody tr th {\n",
              "        vertical-align: top;\n",
              "    }\n",
              "\n",
              "    .dataframe thead th {\n",
              "        text-align: right;\n",
              "    }\n",
              "</style>\n",
              "<table border=\"1\" class=\"dataframe\">\n",
              "  <thead>\n",
              "    <tr style=\"text-align: right;\">\n",
              "      <th></th>\n",
              "      <th>Connection</th>\n",
              "    </tr>\n",
              "    <tr>\n",
              "      <th>Edges</th>\n",
              "      <th></th>\n",
              "    </tr>\n",
              "  </thead>\n",
              "  <tbody>\n",
              "    <tr>\n",
              "      <th>(3902, 3926)</th>\n",
              "      <td>1</td>\n",
              "    </tr>\n",
              "    <tr>\n",
              "      <th>(3902, 3930)</th>\n",
              "      <td>1</td>\n",
              "    </tr>\n",
              "    <tr>\n",
              "      <th>(3902, 3938)</th>\n",
              "      <td>1</td>\n",
              "    </tr>\n",
              "    <tr>\n",
              "      <th>(3926, 3930)</th>\n",
              "      <td>1</td>\n",
              "    </tr>\n",
              "    <tr>\n",
              "      <th>(3926, 3938)</th>\n",
              "      <td>1</td>\n",
              "    </tr>\n",
              "  </tbody>\n",
              "</table>\n",
              "</div>\n",
              "      <button class=\"colab-df-convert\" onclick=\"convertToInteractive('df-20c58e4e-aa8a-4510-9272-7c2dec28e6ab')\"\n",
              "              title=\"Convert this dataframe to an interactive table.\"\n",
              "              style=\"display:none;\">\n",
              "        \n",
              "  <svg xmlns=\"http://www.w3.org/2000/svg\" height=\"24px\"viewBox=\"0 0 24 24\"\n",
              "       width=\"24px\">\n",
              "    <path d=\"M0 0h24v24H0V0z\" fill=\"none\"/>\n",
              "    <path d=\"M18.56 5.44l.94 2.06.94-2.06 2.06-.94-2.06-.94-.94-2.06-.94 2.06-2.06.94zm-11 1L8.5 8.5l.94-2.06 2.06-.94-2.06-.94L8.5 2.5l-.94 2.06-2.06.94zm10 10l.94 2.06.94-2.06 2.06-.94-2.06-.94-.94-2.06-.94 2.06-2.06.94z\"/><path d=\"M17.41 7.96l-1.37-1.37c-.4-.4-.92-.59-1.43-.59-.52 0-1.04.2-1.43.59L10.3 9.45l-7.72 7.72c-.78.78-.78 2.05 0 2.83L4 21.41c.39.39.9.59 1.41.59.51 0 1.02-.2 1.41-.59l7.78-7.78 2.81-2.81c.8-.78.8-2.07 0-2.86zM5.41 20L4 18.59l7.72-7.72 1.47 1.35L5.41 20z\"/>\n",
              "  </svg>\n",
              "      </button>\n",
              "      \n",
              "  <style>\n",
              "    .colab-df-container {\n",
              "      display:flex;\n",
              "      flex-wrap:wrap;\n",
              "      gap: 12px;\n",
              "    }\n",
              "\n",
              "    .colab-df-convert {\n",
              "      background-color: #E8F0FE;\n",
              "      border: none;\n",
              "      border-radius: 50%;\n",
              "      cursor: pointer;\n",
              "      display: none;\n",
              "      fill: #1967D2;\n",
              "      height: 32px;\n",
              "      padding: 0 0 0 0;\n",
              "      width: 32px;\n",
              "    }\n",
              "\n",
              "    .colab-df-convert:hover {\n",
              "      background-color: #E2EBFA;\n",
              "      box-shadow: 0px 1px 2px rgba(60, 64, 67, 0.3), 0px 1px 3px 1px rgba(60, 64, 67, 0.15);\n",
              "      fill: #174EA6;\n",
              "    }\n",
              "\n",
              "    [theme=dark] .colab-df-convert {\n",
              "      background-color: #3B4455;\n",
              "      fill: #D2E3FC;\n",
              "    }\n",
              "\n",
              "    [theme=dark] .colab-df-convert:hover {\n",
              "      background-color: #434B5C;\n",
              "      box-shadow: 0px 1px 3px 1px rgba(0, 0, 0, 0.15);\n",
              "      filter: drop-shadow(0px 1px 2px rgba(0, 0, 0, 0.3));\n",
              "      fill: #FFFFFF;\n",
              "    }\n",
              "  </style>\n",
              "\n",
              "      <script>\n",
              "        const buttonEl =\n",
              "          document.querySelector('#df-20c58e4e-aa8a-4510-9272-7c2dec28e6ab button.colab-df-convert');\n",
              "        buttonEl.style.display =\n",
              "          google.colab.kernel.accessAllowed ? 'block' : 'none';\n",
              "\n",
              "        async function convertToInteractive(key) {\n",
              "          const element = document.querySelector('#df-20c58e4e-aa8a-4510-9272-7c2dec28e6ab');\n",
              "          const dataTable =\n",
              "            await google.colab.kernel.invokeFunction('convertToInteractive',\n",
              "                                                     [key], {});\n",
              "          if (!dataTable) return;\n",
              "\n",
              "          const docLinkHtml = 'Like what you see? Visit the ' +\n",
              "            '<a target=\"_blank\" href=https://colab.research.google.com/notebooks/data_table.ipynb>data table notebook</a>'\n",
              "            + ' to learn more about interactive tables.';\n",
              "          element.innerHTML = '';\n",
              "          dataTable['output_type'] = 'display_data';\n",
              "          await google.colab.output.renderOutput(dataTable, element);\n",
              "          const docLink = document.createElement('div');\n",
              "          docLink.innerHTML = docLinkHtml;\n",
              "          element.appendChild(docLink);\n",
              "        }\n",
              "      </script>\n",
              "    </div>\n",
              "  </div>\n",
              "  "
            ]
          },
          "metadata": {},
          "execution_count": 7
        }
      ],
      "source": [
        "df_2.tail()"
      ]
    },
    {
      "cell_type": "code",
      "execution_count": 8,
      "metadata": {
        "id": "0sPQgNkvAou4"
      },
      "outputs": [],
      "source": [
        "df_2['Common_Neigh'] = [len(list(nx.common_neighbors(G, e[0],e[1]))) for e in df_2.index]"
      ]
    },
    {
      "cell_type": "code",
      "execution_count": 9,
      "metadata": {
        "id": "i3XfR4EiBDSR"
      },
      "outputs": [],
      "source": [
        "#creating a new temporary dataframe for storing the similarity measure values\n",
        "df_3 = pd.DataFrame()\n",
        " \n",
        "#finding jaccard coefficients\n",
        "jaccard = list(nx.jaccard_coefficient(G, list(df_2.index)))\n",
        " \n",
        "#storing the values in the new dataframe and setting the index as edges\n",
        "df_3['Jaccard_Coef'] = [i[2] for i in jaccard]\n",
        "df_3['Edges'] = [(i[0],i[1]) for i in jaccard]\n",
        "df_3.set_index('Edges', inplace=True)\n",
        " \n",
        "#merging the new dataframe with our previous 'df2' dataframe\n",
        "df_2 = df_2.join(df_3, how='inner')"
      ]
    },
    {
      "cell_type": "code",
      "execution_count": 10,
      "metadata": {
        "id": "BqeK14ntBZ5d"
      },
      "outputs": [],
      "source": [
        "df_3 = pd.DataFrame()\n",
        " \n",
        "#finding adamic adar index\n",
        "adamic_adar = list(nx.adamic_adar_index(G, list(df_2.index)))\n",
        " \n",
        "#storing the values in a new dataframe and setting the index as edges\n",
        "df_3['Adamic_Adar'] = [i[2] for i in adamic_adar]\n",
        "df_3['index'] = [(i[0],i[1]) for i in adamic_adar]\n",
        "df_3.set_index('index', inplace=True)\n",
        " \n",
        "#merging the new dataframe with our previous 'df2' dataframe\n",
        "df_2 = df_2.join(df_3, how='inner')"
      ]
    },
    {
      "cell_type": "code",
      "execution_count": 11,
      "metadata": {
        "id": "lfXsVajJBesH"
      },
      "outputs": [],
      "source": [
        "df_3 = pd.DataFrame()\n",
        " \n",
        "#finding preferential attachment\n",
        "preferential_attach = list(nx.preferential_attachment(G, list(df_2.index)))\n",
        " \n",
        "#storing the values in a new dataframe and setting the index as edges\n",
        "df_3['Preferential_Attach'] = [i[2] for i in preferential_attach]\n",
        "df_3['index'] = [(i[0],i[1]) for i in preferential_attach]\n",
        "df_3.set_index('index', inplace=True)\n",
        " \n",
        "#merging the new dataframe with our previous 'df2' dataframe\n",
        "df_2 = df_2.join(df_3, how='inner')"
      ]
    },
    {
      "cell_type": "code",
      "execution_count": 12,
      "metadata": {
        "id": "nOx7udoTCOPp"
      },
      "outputs": [],
      "source": [
        "from sklearn.ensemble import RandomForestClassifier\n",
        "from sklearn.linear_model import LogisticRegression\n",
        "from sklearn.ensemble import GradientBoostingClassifier\n",
        "from sklearn.neural_network import MLPClassifier\n",
        "from sklearn.model_selection import train_test_split\n",
        "from sklearn.model_selection import GridSearchCV\n",
        "from sklearn.metrics import accuracy_score, precision_score, recall_score, f1_score, auc, roc_curve, roc_auc_score,confusion_matrix"
      ]
    },
    {
      "cell_type": "code",
      "execution_count": 13,
      "metadata": {
        "id": "FLd54JFICQa0"
      },
      "outputs": [],
      "source": [
        "#features    \n",
        "X = df_2.iloc[:,1:] "
      ]
    },
    {
      "cell_type": "code",
      "execution_count": 14,
      "metadata": {
        "id": "XdyWWb8iCXWT"
      },
      "outputs": [],
      "source": [
        "#target\n",
        "y = df_2['Connection']"
      ]
    },
    {
      "cell_type": "code",
      "execution_count": 15,
      "metadata": {
        "id": "yDd9Ruw9Cgeo"
      },
      "outputs": [],
      "source": [
        "X_train, X_test, y_train, y_test = train_test_split(X, y,test_size=0.3, random_state = 0)"
      ]
    },
    {
      "cell_type": "code",
      "execution_count": 16,
      "metadata": {
        "id": "wWI_2k9eCn6B"
      },
      "outputs": [],
      "source": [
        "from sklearn.preprocessing import MinMaxScaler\n",
        "scaler = MinMaxScaler()\n",
        " \n",
        "#this will be used only for MLP Classifier\n",
        "X_train_scaled = scaler.fit_transform(X_train)\n",
        "X_test_scaled = scaler.transform(X_test)"
      ]
    },
    {
      "cell_type": "code",
      "execution_count": 17,
      "metadata": {
        "colab": {
          "base_uri": "https://localhost:8080/"
        },
        "id": "GNDcFyjfCxkc",
        "outputId": "00fb7c37-ebb8-44be-b598-637b0ea931b2"
      },
      "outputs": [
        {
          "output_type": "stream",
          "name": "stdout",
          "text": [
            "Grid best parameter (max. accuracy):  {'max_depth': 10, 'n_estimators': 50}\n",
            "Grid best score (accuracy):  0.67969403653449\n",
            "AUC Score 0.6449534904977007\n",
            "Grid best score :  0.6467459665737307\n"
          ]
        }
      ],
      "source": [
        "#classifier\n",
        "clf1 = RandomForestClassifier()\n",
        " \n",
        "#parameters\n",
        "param = {'n_estimators' : [10,50,100], 'max_depth' : [5,10,15]}\n",
        " \n",
        "#model\n",
        "grid_clf_acc1 = GridSearchCV(clf1, param_grid = param)\n",
        " \n",
        "#training the model\n",
        "grid_clf_acc1.fit(X_train, y_train)\n",
        " \n",
        "print('Grid best parameter (max. accuracy): ', grid_clf_acc1.best_params_)\n",
        "print('Grid best score (accuracy): ', grid_clf_acc1.best_score_)\n",
        " \n",
        "# alternative metric to optimize over grid parameters: AUC\n",
        "grid_clf_auc1 = GridSearchCV(clf1, param_grid = param, scoring = 'roc_auc')\n",
        "grid_clf_auc1.fit(X_train, y_train)\n",
        "predict_proba1 = grid_clf_auc1.predict_proba(X_test)[:,1]\n",
        " \n",
        "print('AUC Score', roc_auc_score(y_test, predict_proba1))\n",
        "print('Grid best score : ', grid_clf_auc1.best_score_)"
      ]
    },
    {
      "cell_type": "code",
      "execution_count": 18,
      "metadata": {
        "colab": {
          "base_uri": "https://localhost:8080/"
        },
        "id": "gGIU0kbd0KTq",
        "outputId": "fafe3d5e-583e-4610-b123-11fd2020f62c"
      },
      "outputs": [
        {
          "output_type": "stream",
          "name": "stdout",
          "text": [
            "Grid best parameter (max. accuracy):  {'learning_rate': 0.05}\n",
            "Grid best score (accuracy):  0.6783951040359273\n",
            "AUC Score:  0.6444004933065764\n",
            "Grid best score:  0.645517327982199\n"
          ]
        }
      ],
      "source": [
        "#classifier\n",
        "clf2 = GradientBoostingClassifier()\n",
        " \n",
        "#parameters\n",
        "param = {'learning_rate' : [.05,.1]}\n",
        " \n",
        "#model\n",
        "grid_clf_acc2 = GridSearchCV(clf2, param_grid = param)\n",
        " \n",
        "#training the model\n",
        "grid_clf_acc2.fit(X_train, y_train)\n",
        " \n",
        "print('Grid best parameter (max. accuracy): ', grid_clf_acc2.best_params_)\n",
        "print('Grid best score (accuracy): ', grid_clf_acc2.best_score_)\n",
        " \n",
        "# alternative metric to optimize over grid parameters: AUC\n",
        "grid_clf_auc2 = GridSearchCV(clf2, param_grid = param, scoring = 'roc_auc')\n",
        "grid_clf_auc2.fit(X_train, y_train)\n",
        "predict_proba2 = grid_clf_auc2.predict_proba(X_test)[:,1]\n",
        " \n",
        "print('AUC Score: ', roc_auc_score(y_test, predict_proba2))\n",
        "print('Grid best score: ', grid_clf_auc2.best_score_)"
      ]
    },
    {
      "cell_type": "code",
      "execution_count": 19,
      "metadata": {
        "colab": {
          "base_uri": "https://localhost:8080/"
        },
        "id": "DEnrgsc30Uui",
        "outputId": "712a9326-bcda-4caa-b307-0f27cd5f34d3"
      },
      "outputs": [
        {
          "output_type": "stream",
          "name": "stdout",
          "text": [
            "Grid best parameter (max. accuracy):  {'C': 1, 'penalty': 'l2'}\n",
            "Grid best score (accuracy):  0.6705730611054952\n",
            "AUC Score:  0.6394036171954758\n",
            "Grid best score:  0.6340326887120539\n"
          ]
        }
      ],
      "source": [
        "#classifier\n",
        "clf4 = LogisticRegression()\n",
        " \n",
        "#parameters\n",
        "param = {'penalty': ['l2'], 'C' :[1]}\n",
        " \n",
        "#model\n",
        "grid_clf_acc4 = GridSearchCV(clf4, param_grid = param)\n",
        " \n",
        "#training the model\n",
        "grid_clf_acc4.fit(X_train, y_train)\n",
        " \n",
        "\n",
        "print('Grid best parameter (max. accuracy): ', grid_clf_acc4.best_params_)\n",
        "print('Grid best score (accuracy): ', grid_clf_acc4.best_score_)\n",
        " \n",
        "# alternative metric to optimize over grid parameters: AUC\n",
        "grid_clf_auc4 = GridSearchCV(clf4, param_grid = param, scoring = 'roc_auc')\n",
        "grid_clf_auc4.fit(X_train, y_train)\n",
        "predict_proba4 = grid_clf_auc4.predict_proba(X_test)[:,1]\n",
        " \n",
        "print('AUC Score: ', roc_auc_score(y_test, predict_proba4))\n",
        "print('Grid best score: ', grid_clf_auc4.best_score_)"
      ]
    },
    {
      "cell_type": "code",
      "execution_count": 20,
      "metadata": {
        "colab": {
          "base_uri": "https://localhost:8080/",
          "height": 328
        },
        "id": "utS-cwo-ZxPa",
        "outputId": "ad8ba6d9-5af0-4a64-e69b-fd4cc4967f0e"
      },
      "outputs": [
        {
          "output_type": "execute_result",
          "data": {
            "text/plain": [
              "Text(0, 0.5, 'True Positive Rate')"
            ]
          },
          "metadata": {},
          "execution_count": 20
        },
        {
          "output_type": "display_data",
          "data": {
            "text/plain": [
              "<Figure size 432x288 with 1 Axes>"
            ],
            "image/png": "[encoded data removed]"
          },
          "metadata": {
            "needs_background": "light"
          }
        }
      ],
      "source": [
        "predict_proba4 = grid_clf_auc4.predict_proba(X_test)[:,1]\n",
        "false_positive_rate4,true_positive_rate4,_ = roc_curve(y_test, predict_proba4)\n",
        "roc_auc_score = auc(false_positive_rate4,true_positive_rate4)\n",
        " \n",
        "#plotting\n",
        "plt.plot([0,1],[0,1], 'k--')\n",
        "plt.plot(false_positive_rate4,true_positive_rate4, color='red')\n",
        "plt.title(f'LogisticRegression ROC Curve \\n ROC AUC Score : {roc_auc_score}')\n",
        "plt.xlabel('False Positive Rate')\n",
        "plt.ylabel('True Positive Rate')"
      ]
    },
    {
      "cell_type": "code",
      "execution_count": 21,
      "metadata": {
        "colab": {
          "base_uri": "https://localhost:8080/",
          "height": 328
        },
        "id": "CHKK2mYMEv8X",
        "outputId": "4c379a28-b15e-4eb5-894b-2caeb2d3aefb"
      },
      "outputs": [
        {
          "output_type": "execute_result",
          "data": {
            "text/plain": [
              "Text(0, 0.5, 'True Positive Rate')"
            ]
          },
          "metadata": {},
          "execution_count": 21
        },
        {
          "output_type": "display_data",
          "data": {
            "text/plain": [
              "<Figure size 432x288 with 1 Axes>"
            ],
            "image/png": "[encoded data removed]"
          },
          "metadata": {
            "needs_background": "light"
          }
        }
      ],
      "source": [
        "predict_proba1 = grid_clf_auc1.predict_proba(X_test)[:,1]\n",
        "false_positive_rate1,true_positive_rate1,_ = roc_curve(y_test, predict_proba1)\n",
        "roc_auc_score = auc(false_positive_rate1,true_positive_rate1)\n",
        " \n",
        "#plotting\n",
        "plt.plot([0,1],[0,1], 'k--')\n",
        "plt.plot(false_positive_rate1,true_positive_rate1)\n",
        "plt.title(f'RandomForest ROC Curve \\n ROC AUC Score : {roc_auc_score}')\n",
        "plt.xlabel('False Positive Rate')\n",
        "plt.ylabel('True Positive Rate')"
      ]
    },
    {
      "cell_type": "code",
      "execution_count": 22,
      "metadata": {
        "colab": {
          "base_uri": "https://localhost:8080/",
          "height": 328
        },
        "id": "snAHu4IhJ9ft",
        "outputId": "a77335d5-c834-4ce9-be57-3c82dd77998c"
      },
      "outputs": [
        {
          "output_type": "execute_result",
          "data": {
            "text/plain": [
              "Text(0, 0.5, 'True Positive Rate')"
            ]
          },
          "metadata": {},
          "execution_count": 22
        },
        {
          "output_type": "display_data",
          "data": {
            "text/plain": [
              "<Figure size 432x288 with 1 Axes>"
            ],
            "image/png": "[encoded data removed]"
          },
          "metadata": {
            "needs_background": "light"
          }
        }
      ],
      "source": [
        "predict_proba2 = grid_clf_auc2.predict_proba(X_test)[:,1]\n",
        "false_positive_rate2,true_positive_rate2,_ = roc_curve(y_test, predict_proba2)\n",
        "roc_auc_score2 = auc(false_positive_rate2,true_positive_rate2)\n",
        " \n",
        "#plotting\n",
        "plt.plot([0,1],[0,1], 'k--')\n",
        "plt.plot(false_positive_rate2,true_positive_rate2, color='orange')\n",
        "plt.title(f'GradientBoosting ROC Curve \\n ROC AUC Score : {roc_auc_score2}')\n",
        "plt.xlabel('False Positive Rate')\n",
        "plt.ylabel('True Positive Rate')"
      ]
    },
    {
      "cell_type": "code",
      "execution_count": 23,
      "metadata": {
        "id": "Ya8_a_OlDPh5"
      },
      "outputs": [],
      "source": [
        "from sklearn.metrics import classification_report, confusion_matrix, roc_curve, auc"
      ]
    },
    {
      "cell_type": "code",
      "execution_count": 24,
      "metadata": {
        "id": "Bo0Htoa7CboF"
      },
      "outputs": [],
      "source": [
        "lr_y_pred = grid_clf_auc4.predict_proba(X_test)[:1]"
      ]
    },
    {
      "cell_type": "code",
      "execution_count": 25,
      "metadata": {
        "id": "NstwUTTdDmtT"
      },
      "outputs": [],
      "source": [
        "def plot_confusion(y_test, y_pred):\n",
        "    \n",
        "    C = confusion_matrix(y_test, y_pred)\n",
        "    \n",
        "    A =(((C.T)/(C.sum(axis=1))).T)\n",
        "    B =(C/C.sum(axis=0))\n",
        "    plt.figure(figsize=(3,3))\n",
        "    \n",
        "    labels = [0,1]\n",
        "    cmap=sns.light_palette(\"tab:blue\")\n",
        "    sns.heatmap(C, annot=True, cmap=cmap, fmt=\".3f\", xticklabels=labels, yticklabels=labels)\n",
        "    plt.xlabel('Predicted Class')\n",
        "    plt.ylabel('Original Class')\n",
        "    plt.title(\"Confusion matrix\")\n",
        "    plt.show()"
      ]
    },
    {
      "cell_type": "code",
      "execution_count": 26,
      "metadata": {
        "colab": {
          "base_uri": "https://localhost:8080/"
        },
        "id": "1-Aj_wvBEp7t",
        "outputId": "093dcfef-fff5-43f9-d377-b7f895039c42"
      },
      "outputs": [
        {
          "output_type": "stream",
          "name": "stderr",
          "text": [
            "/usr/local/lib/python3.7/dist-packages/sklearn/base.py:451: UserWarning: X does not have valid feature names, but RandomForestClassifier was fitted with feature names\n",
            "  \"X does not have valid feature names, but\"\n"
          ]
        }
      ],
      "source": [
        "pred = grid_clf_acc1.predict(X_test_scaled)"
      ]
    },
    {
      "cell_type": "code",
      "execution_count": 27,
      "metadata": {
        "colab": {
          "base_uri": "https://localhost:8080/",
          "height": 241
        },
        "id": "AMRNWf_6pqjr",
        "outputId": "b4d5eeb7-19e7-4dcd-c305-e7d4bc59bc55"
      },
      "outputs": [
        {
          "output_type": "display_data",
          "data": {
            "text/plain": [
              "<Figure size 216x216 with 2 Axes>"
            ],
            "image/png": "[encoded data removed]"
          },
          "metadata": {
            "needs_background": "light"
          }
        }
      ],
      "source": [
        "from sklearn.metrics._plot.confusion_matrix import plot_confusion_matrix\n",
        "plot_confusion(pred,y_test)"
      ]
    },
    {
      "cell_type": "code",
      "execution_count": 28,
      "metadata": {
        "colab": {
          "base_uri": "https://localhost:8080/"
        },
        "id": "Xt3c-pUaGX9g",
        "outputId": "0c75dbbd-cf42-4adb-c53e-585846b79962"
      },
      "outputs": [
        {
          "output_type": "stream",
          "name": "stdout",
          "text": [
            "Classification Report:Random Forest \n",
            "              precision    recall  f1-score   support\n",
            "\n",
            "           0       0.84      0.71      0.77     11845\n",
            "           1       0.33      0.50      0.40      3333\n",
            "\n",
            "    accuracy                           0.66     15178\n",
            "   macro avg       0.58      0.61      0.58     15178\n",
            "weighted avg       0.72      0.66      0.69     15178\n",
            "\n"
          ]
        }
      ],
      "source": [
        "print('Classification Report:Random Forest ')\n",
        "print(classification_report(pred, y_test)) "
      ]
    },
    {
      "cell_type": "code",
      "execution_count": 29,
      "metadata": {
        "colab": {
          "base_uri": "https://localhost:8080/"
        },
        "id": "o9G9eJa-EwCK",
        "outputId": "48e372a9-8f30-45d1-b87a-6b47cc386c45"
      },
      "outputs": [
        {
          "output_type": "stream",
          "name": "stderr",
          "text": [
            "/usr/local/lib/python3.7/dist-packages/sklearn/base.py:451: UserWarning: X does not have valid feature names, but GradientBoostingClassifier was fitted with feature names\n",
            "  \"X does not have valid feature names, but\"\n"
          ]
        }
      ],
      "source": [
        "pred2 = grid_clf_acc2.predict(X_test_scaled)"
      ]
    },
    {
      "cell_type": "code",
      "execution_count": 30,
      "metadata": {
        "colab": {
          "base_uri": "https://localhost:8080/",
          "height": 241
        },
        "id": "9S-wex-fq7_k",
        "outputId": "0471da65-21e1-4989-d26d-508bac051f02"
      },
      "outputs": [
        {
          "output_type": "display_data",
          "data": {
            "text/plain": [
              "<Figure size 216x216 with 2 Axes>"
            ],
            "image/png": "[encoded data removed]"
          },
          "metadata": {
            "needs_background": "light"
          }
        }
      ],
      "source": [
        "plot_confusion(pred2,y_test)"
      ]
    },
    {
      "cell_type": "code",
      "execution_count": 31,
      "metadata": {
        "colab": {
          "base_uri": "https://localhost:8080/"
        },
        "id": "GcD4R5xIGfbO",
        "outputId": "a2361233-e3e1-4a25-c2f3-edc21ed2dfcb"
      },
      "outputs": [
        {
          "output_type": "stream",
          "name": "stdout",
          "text": [
            "Classification Report:Gradient Boost \n",
            "              precision    recall  f1-score   support\n",
            "\n",
            "           0       1.00      0.66      0.80     15176\n",
            "           1       0.00      0.00      0.00         2\n",
            "\n",
            "    accuracy                           0.66     15178\n",
            "   macro avg       0.50      0.33      0.40     15178\n",
            "weighted avg       1.00      0.66      0.80     15178\n",
            "\n"
          ]
        }
      ],
      "source": [
        "print('Classification Report:Gradient Boost ')\n",
        "print(classification_report(pred2, y_test)) "
      ]
    },
    {
      "cell_type": "code",
      "execution_count": 32,
      "metadata": {
        "colab": {
          "base_uri": "https://localhost:8080/"
        },
        "id": "fvhMppHrFI8y",
        "outputId": "8b2ed682-2648-4d22-ff91-eefda3564ac6"
      },
      "outputs": [
        {
          "output_type": "stream",
          "name": "stderr",
          "text": [
            "/usr/local/lib/python3.7/dist-packages/sklearn/base.py:451: UserWarning: X does not have valid feature names, but LogisticRegression was fitted with feature names\n",
            "  \"X does not have valid feature names, but\"\n"
          ]
        }
      ],
      "source": [
        "pred4 = grid_clf_acc4.predict(X_test_scaled)"
      ]
    },
    {
      "cell_type": "code",
      "execution_count": 33,
      "metadata": {
        "colab": {
          "base_uri": "https://localhost:8080/",
          "height": 278
        },
        "id": "DxxpV9AzruvR",
        "outputId": "37ee780f-7357-42a6-dfb5-c485731ad4e5"
      },
      "outputs": [
        {
          "output_type": "stream",
          "name": "stderr",
          "text": [
            "/usr/local/lib/python3.7/dist-packages/ipykernel_launcher.py:5: RuntimeWarning: invalid value encountered in true_divide\n",
            "  \"\"\"\n"
          ]
        },
        {
          "output_type": "display_data",
          "data": {
            "text/plain": [
              "<Figure size 216x216 with 2 Axes>"
            ],
            "image/png": "[encoded data removed]"
          },
          "metadata": {
            "needs_background": "light"
          }
        }
      ],
      "source": [
        "plot_confusion(pred4,y_test)"
      ]
    },
    {
      "cell_type": "code",
      "execution_count": 34,
      "metadata": {
        "colab": {
          "base_uri": "https://localhost:8080/"
        },
        "id": "CN-hlPIrGJij",
        "outputId": "2f9f5d8a-585e-4da5-d06f-99761b3ad784"
      },
      "outputs": [
        {
          "output_type": "stream",
          "name": "stdout",
          "text": [
            "Classification Report:Logistic Regression \n",
            "              precision    recall  f1-score   support\n",
            "\n",
            "           0       1.00      0.66      0.80     15178\n",
            "           1       0.00      0.00      0.00         0\n",
            "\n",
            "    accuracy                           0.66     15178\n",
            "   macro avg       0.50      0.33      0.40     15178\n",
            "weighted avg       1.00      0.66      0.80     15178\n",
            "\n"
          ]
        },
        {
          "output_type": "stream",
          "name": "stderr",
          "text": [
            "/usr/local/lib/python3.7/dist-packages/sklearn/metrics/_classification.py:1318: UndefinedMetricWarning: Recall and F-score are ill-defined and being set to 0.0 in labels with no true samples. Use `zero_division` parameter to control this behavior.\n",
            "  _warn_prf(average, modifier, msg_start, len(result))\n",
            "/usr/local/lib/python3.7/dist-packages/sklearn/metrics/_classification.py:1318: UndefinedMetricWarning: Recall and F-score are ill-defined and being set to 0.0 in labels with no true samples. Use `zero_division` parameter to control this behavior.\n",
            "  _warn_prf(average, modifier, msg_start, len(result))\n",
            "/usr/local/lib/python3.7/dist-packages/sklearn/metrics/_classification.py:1318: UndefinedMetricWarning: Recall and F-score are ill-defined and being set to 0.0 in labels with no true samples. Use `zero_division` parameter to control this behavior.\n",
            "  _warn_prf(average, modifier, msg_start, len(result))\n"
          ]
        }
      ],
      "source": [
        "print('Classification Report:Logistic Regression ')\n",
        "print(classification_report(pred4, y_test)) "
      ]
    },
    {
      "cell_type": "code",
      "execution_count": 35,
      "metadata": {
        "id": "Uou1qi9ZO311",
        "colab": {
          "base_uri": "https://localhost:8080/"
        },
        "outputId": "11e1841f-eb40-4dac-f919-a284531afe52"
      },
      "outputs": [
        {
          "output_type": "stream",
          "name": "stdout",
          "text": [
            " (2,24) node pair features : Common_Neigh            0.0\n",
            "Jaccard_Coef            0.0\n",
            "Adamic_Adar             0.0\n",
            "Preferential_Attach    27.0\n",
            "Name: (2, 24), dtype: float64\n",
            "Index of (2,24) node pair in X_train : 20367\n"
          ]
        }
      ],
      "source": [
        "print(f' ({df_2.index[2][0]},{df_2.index[2][1]}) node pair features : {X.iloc[2,:]}')\n",
        " \n",
        "# its position in X_train\n",
        "print(f'Index of ({df_2.index[2][0]},{df_2.index[2][1]}) node pair in X_train : {np.where(X_train.index == X.index[2])[0][0]}')\n",
        "\n"
      ]
    },
    {
      "cell_type": "code",
      "execution_count": 36,
      "metadata": {
        "id": "aUYc8izXDYGB",
        "colab": {
          "base_uri": "https://localhost:8080/"
        },
        "outputId": "10eea97d-4845-4ae3-b6bf-d74ebcc43f9f"
      },
      "outputs": [
        {
          "output_type": "stream",
          "name": "stdout",
          "text": [
            " (2,345) node pair features : Common_Neigh            0.0\n",
            "Jaccard_Coef            0.0\n",
            "Adamic_Adar             0.0\n",
            "Preferential_Attach    27.0\n",
            "Name: (2, 24), dtype: float64\n",
            "Index of (2,345) node pair in X_train : 23166\n"
          ]
        }
      ],
      "source": [
        "print(f' ({df_2.index[5][0]},{df_2.index[5][1]}) node pair features : {X.iloc[2,:]}')\n",
        " \n",
        "# its position in X_train\n",
        "print(f'Index of ({df_2.index[5][0]},{df_2.index[5][1]}) node pair in X_train : {np.where(X_train.index == X.index[5])[0][0]}')"
      ]
    },
    {
      "cell_type": "code",
      "execution_count": 37,
      "metadata": {
        "id": "cIAb4PAIXJxj",
        "colab": {
          "base_uri": "https://localhost:8080/"
        },
        "outputId": "a032732a-a0a9-4560-b0d6-49304a0b9c96"
      },
      "outputs": [
        {
          "output_type": "stream",
          "name": "stdout",
          "text": [
            "Probability of nodes 2 and 345 to form a link is :  28.32%\n"
          ]
        },
        {
          "output_type": "stream",
          "name": "stderr",
          "text": [
            "/usr/local/lib/python3.7/dist-packages/sklearn/base.py:451: UserWarning: X does not have valid feature names, but RandomForestClassifier was fitted with feature names\n",
            "  \"X does not have valid feature names, but\"\n"
          ]
        }
      ],
      "source": [
        "predict_proba = grid_clf_acc1.predict_proba(X_train_scaled[np.where(X_train.index == X.index[5])[0][0]].reshape(1,-1))[:,1]\n",
        " \n",
        "print(f'Probability of nodes {df_2.index[5][0]} and {df_2.index[5][1]} to form a link is : {float(predict_proba)*100 : .2f}%')"
      ]
    },
    {
      "cell_type": "code",
      "execution_count": 38,
      "metadata": {
        "id": "rkHuzDkcVGga",
        "colab": {
          "base_uri": "https://localhost:8080/",
          "height": 423
        },
        "outputId": "ce7afff8-d019-4765-b695-5941c234f9e3"
      },
      "outputs": [
        {
          "output_type": "execute_result",
          "data": {
            "text/plain": [
              "              Common_Neigh  Jaccard_Coef  Adamic_Adar  Preferential_Attach\n",
              "(266, 2747)              0      0.000000     0.000000                   77\n",
              "(1312, 1376)            33      0.358696     7.923614                 3094\n",
              "(1941, 2428)            42      0.269231    10.017940                 9401\n",
              "(2668, 2730)             4      0.148148     1.298760                  228\n",
              "(1359, 1791)            30      0.348837     7.185266                 3264\n",
              "...                    ...           ...          ...                  ...\n",
              "(1433, 1962)             0      0.000000     0.000000                 1168\n",
              "(2142, 2276)            61      0.685393    14.353833                 5504\n",
              "(1938, 2386)            56      0.691358    13.075657                 4620\n",
              "(1997, 2619)            48      0.640000    11.163682                 3770\n",
              "(161, 1710)              0      0.000000     0.000000                   78\n",
              "\n",
              "[35413 rows x 4 columns]"
            ],
            "text/html": [
              "\n",
              "  <div id=\"df-dd166a1a-fa4f-4d12-9d79-802e921b72df\">\n",
              "    <div class=\"colab-df-container\">\n",
              "      <div>\n",
              "<style scoped>\n",
              "    .dataframe tbody tr th:only-of-type {\n",
              "        vertical-align: middle;\n",
              "    }\n",
              "\n",
              "    .dataframe tbody tr th {\n",
              "        vertical-align: top;\n",
              "    }\n",
              "\n",
              "    .dataframe thead th {\n",
              "        text-align: right;\n",
              "    }\n",
              "</style>\n",
              "<table border=\"1\" class=\"dataframe\">\n",
              "  <thead>\n",
              "    <tr style=\"text-align: right;\">\n",
              "      <th></th>\n",
              "      <th>Common_Neigh</th>\n",
              "      <th>Jaccard_Coef</th>\n",
              "      <th>Adamic_Adar</th>\n",
              "      <th>Preferential_Attach</th>\n",
              "    </tr>\n",
              "  </thead>\n",
              "  <tbody>\n",
              "    <tr>\n",
              "      <th>(266, 2747)</th>\n",
              "      <td>0</td>\n",
              "      <td>0.000000</td>\n",
              "      <td>0.000000</td>\n",
              "      <td>77</td>\n",
              "    </tr>\n",
              "    <tr>\n",
              "      <th>(1312, 1376)</th>\n",
              "      <td>33</td>\n",
              "      <td>0.358696</td>\n",
              "      <td>7.923614</td>\n",
              "      <td>3094</td>\n",
              "    </tr>\n",
              "    <tr>\n",
              "      <th>(1941, 2428)</th>\n",
              "      <td>42</td>\n",
              "      <td>0.269231</td>\n",
              "      <td>10.017940</td>\n",
              "      <td>9401</td>\n",
              "    </tr>\n",
              "    <tr>\n",
              "      <th>(2668, 2730)</th>\n",
              "      <td>4</td>\n",
              "      <td>0.148148</td>\n",
              "      <td>1.298760</td>\n",
              "      <td>228</td>\n",
              "    </tr>\n",
              "    <tr>\n",
              "      <th>(1359, 1791)</th>\n",
              "      <td>30</td>\n",
              "      <td>0.348837</td>\n",
              "      <td>7.185266</td>\n",
              "      <td>3264</td>\n",
              "    </tr>\n",
              "    <tr>\n",
              "      <th>...</th>\n",
              "      <td>...</td>\n",
              "      <td>...</td>\n",
              "      <td>...</td>\n",
              "      <td>...</td>\n",
              "    </tr>\n",
              "    <tr>\n",
              "      <th>(1433, 1962)</th>\n",
              "      <td>0</td>\n",
              "      <td>0.000000</td>\n",
              "      <td>0.000000</td>\n",
              "      <td>1168</td>\n",
              "    </tr>\n",
              "    <tr>\n",
              "      <th>(2142, 2276)</th>\n",
              "      <td>61</td>\n",
              "      <td>0.685393</td>\n",
              "      <td>14.353833</td>\n",
              "      <td>5504</td>\n",
              "    </tr>\n",
              "    <tr>\n",
              "      <th>(1938, 2386)</th>\n",
              "      <td>56</td>\n",
              "      <td>0.691358</td>\n",
              "      <td>13.075657</td>\n",
              "      <td>4620</td>\n",
              "    </tr>\n",
              "    <tr>\n",
              "      <th>(1997, 2619)</th>\n",
              "      <td>48</td>\n",
              "      <td>0.640000</td>\n",
              "      <td>11.163682</td>\n",
              "      <td>3770</td>\n",
              "    </tr>\n",
              "    <tr>\n",
              "      <th>(161, 1710)</th>\n",
              "      <td>0</td>\n",
              "      <td>0.000000</td>\n",
              "      <td>0.000000</td>\n",
              "      <td>78</td>\n",
              "    </tr>\n",
              "  </tbody>\n",
              "</table>\n",
              "<p>35413 rows × 4 columns</p>\n",
              "</div>\n",
              "      <button class=\"colab-df-convert\" onclick=\"convertToInteractive('df-dd166a1a-fa4f-4d12-9d79-802e921b72df')\"\n",
              "              title=\"Convert this dataframe to an interactive table.\"\n",
              "              style=\"display:none;\">\n",
              "        \n",
              "  <svg xmlns=\"http://www.w3.org/2000/svg\" height=\"24px\"viewBox=\"0 0 24 24\"\n",
              "       width=\"24px\">\n",
              "    <path d=\"M0 0h24v24H0V0z\" fill=\"none\"/>\n",
              "    <path d=\"M18.56 5.44l.94 2.06.94-2.06 2.06-.94-2.06-.94-.94-2.06-.94 2.06-2.06.94zm-11 1L8.5 8.5l.94-2.06 2.06-.94-2.06-.94L8.5 2.5l-.94 2.06-2.06.94zm10 10l.94 2.06.94-2.06 2.06-.94-2.06-.94-.94-2.06-.94 2.06-2.06.94z\"/><path d=\"M17.41 7.96l-1.37-1.37c-.4-.4-.92-.59-1.43-.59-.52 0-1.04.2-1.43.59L10.3 9.45l-7.72 7.72c-.78.78-.78 2.05 0 2.83L4 21.41c.39.39.9.59 1.41.59.51 0 1.02-.2 1.41-.59l7.78-7.78 2.81-2.81c.8-.78.8-2.07 0-2.86zM5.41 20L4 18.59l7.72-7.72 1.47 1.35L5.41 20z\"/>\n",
              "  </svg>\n",
              "      </button>\n",
              "      \n",
              "  <style>\n",
              "    .colab-df-container {\n",
              "      display:flex;\n",
              "      flex-wrap:wrap;\n",
              "      gap: 12px;\n",
              "    }\n",
              "\n",
              "    .colab-df-convert {\n",
              "      background-color: #E8F0FE;\n",
              "      border: none;\n",
              "      border-radius: 50%;\n",
              "      cursor: pointer;\n",
              "      display: none;\n",
              "      fill: #1967D2;\n",
              "      height: 32px;\n",
              "      padding: 0 0 0 0;\n",
              "      width: 32px;\n",
              "    }\n",
              "\n",
              "    .colab-df-convert:hover {\n",
              "      background-color: #E2EBFA;\n",
              "      box-shadow: 0px 1px 2px rgba(60, 64, 67, 0.3), 0px 1px 3px 1px rgba(60, 64, 67, 0.15);\n",
              "      fill: #174EA6;\n",
              "    }\n",
              "\n",
              "    [theme=dark] .colab-df-convert {\n",
              "      background-color: #3B4455;\n",
              "      fill: #D2E3FC;\n",
              "    }\n",
              "\n",
              "    [theme=dark] .colab-df-convert:hover {\n",
              "      background-color: #434B5C;\n",
              "      box-shadow: 0px 1px 3px 1px rgba(0, 0, 0, 0.15);\n",
              "      filter: drop-shadow(0px 1px 2px rgba(0, 0, 0, 0.3));\n",
              "      fill: #FFFFFF;\n",
              "    }\n",
              "  </style>\n",
              "\n",
              "      <script>\n",
              "        const buttonEl =\n",
              "          document.querySelector('#df-dd166a1a-fa4f-4d12-9d79-802e921b72df button.colab-df-convert');\n",
              "        buttonEl.style.display =\n",
              "          google.colab.kernel.accessAllowed ? 'block' : 'none';\n",
              "\n",
              "        async function convertToInteractive(key) {\n",
              "          const element = document.querySelector('#df-dd166a1a-fa4f-4d12-9d79-802e921b72df');\n",
              "          const dataTable =\n",
              "            await google.colab.kernel.invokeFunction('convertToInteractive',\n",
              "                                                     [key], {});\n",
              "          if (!dataTable) return;\n",
              "\n",
              "          const docLinkHtml = 'Like what you see? Visit the ' +\n",
              "            '<a target=\"_blank\" href=https://colab.research.google.com/notebooks/data_table.ipynb>data table notebook</a>'\n",
              "            + ' to learn more about interactive tables.';\n",
              "          element.innerHTML = '';\n",
              "          dataTable['output_type'] = 'display_data';\n",
              "          await google.colab.output.renderOutput(dataTable, element);\n",
              "          const docLink = document.createElement('div');\n",
              "          docLink.innerHTML = docLinkHtml;\n",
              "          element.appendChild(docLink);\n",
              "        }\n",
              "      </script>\n",
              "    </div>\n",
              "  </div>\n",
              "  "
            ]
          },
          "metadata": {},
          "execution_count": 38
        }
      ],
      "source": [
        "X_train"
      ]
    },
    {
      "cell_type": "code",
      "execution_count": null,
      "metadata": {
        "id": "GMUB4PyBywa9",
        "colab": {
          "base_uri": "https://localhost:8080/",
          "height": 363
        },
        "outputId": "e4f78eff-44ad-40de-ccbe-95c83a033d7d"
      },
      "outputs": [
        {
          "output_type": "execute_result",
          "data": {
            "text/plain": [
              "          Connection  Common_Neigh  Jaccard_Coef  Adamic_Adar  \\\n",
              "(2, 3)             0             0           0.0          0.0   \n",
              "(2, 10)            0             0           0.0          0.0   \n",
              "(2, 24)            0             0           0.0          0.0   \n",
              "(2, 254)           1             0           0.0          0.0   \n",
              "(2, 265)           1             0           0.0          0.0   \n",
              "(2, 345)           0             0           0.0          0.0   \n",
              "(2, 368)           0             0           0.0          0.0   \n",
              "(2, 446)           0             0           0.0          0.0   \n",
              "(2, 456)           0             0           0.0          0.0   \n",
              "(2, 510)           0             0           0.0          0.0   \n",
              "\n",
              "          Preferential_Attach  \n",
              "(2, 3)                     21  \n",
              "(2, 10)                    18  \n",
              "(2, 24)                    27  \n",
              "(2, 254)                   30  \n",
              "(2, 265)                   54  \n",
              "(2, 345)                   21  \n",
              "(2, 368)                   45  \n",
              "(2, 446)                   42  \n",
              "(2, 456)                   84  \n",
              "(2, 510)                   51  "
            ],
            "text/html": [
              "\n",
              "  <div id=\"df-ca14a266-d82a-4f71-b4f7-a87efb131f28\">\n",
              "    <div class=\"colab-df-container\">\n",
              "      <div>\n",
              "<style scoped>\n",
              "    .dataframe tbody tr th:only-of-type {\n",
              "        vertical-align: middle;\n",
              "    }\n",
              "\n",
              "    .dataframe tbody tr th {\n",
              "        vertical-align: top;\n",
              "    }\n",
              "\n",
              "    .dataframe thead th {\n",
              "        text-align: right;\n",
              "    }\n",
              "</style>\n",
              "<table border=\"1\" class=\"dataframe\">\n",
              "  <thead>\n",
              "    <tr style=\"text-align: right;\">\n",
              "      <th></th>\n",
              "      <th>Connection</th>\n",
              "      <th>Common_Neigh</th>\n",
              "      <th>Jaccard_Coef</th>\n",
              "      <th>Adamic_Adar</th>\n",
              "      <th>Preferential_Attach</th>\n",
              "    </tr>\n",
              "  </thead>\n",
              "  <tbody>\n",
              "    <tr>\n",
              "      <th>(2, 3)</th>\n",
              "      <td>0</td>\n",
              "      <td>0</td>\n",
              "      <td>0.0</td>\n",
              "      <td>0.0</td>\n",
              "      <td>21</td>\n",
              "    </tr>\n",
              "    <tr>\n",
              "      <th>(2, 10)</th>\n",
              "      <td>0</td>\n",
              "      <td>0</td>\n",
              "      <td>0.0</td>\n",
              "      <td>0.0</td>\n",
              "      <td>18</td>\n",
              "    </tr>\n",
              "    <tr>\n",
              "      <th>(2, 24)</th>\n",
              "      <td>0</td>\n",
              "      <td>0</td>\n",
              "      <td>0.0</td>\n",
              "      <td>0.0</td>\n",
              "      <td>27</td>\n",
              "    </tr>\n",
              "    <tr>\n",
              "      <th>(2, 254)</th>\n",
              "      <td>1</td>\n",
              "      <td>0</td>\n",
              "      <td>0.0</td>\n",
              "      <td>0.0</td>\n",
              "      <td>30</td>\n",
              "    </tr>\n",
              "    <tr>\n",
              "      <th>(2, 265)</th>\n",
              "      <td>1</td>\n",
              "      <td>0</td>\n",
              "      <td>0.0</td>\n",
              "      <td>0.0</td>\n",
              "      <td>54</td>\n",
              "    </tr>\n",
              "    <tr>\n",
              "      <th>(2, 345)</th>\n",
              "      <td>0</td>\n",
              "      <td>0</td>\n",
              "      <td>0.0</td>\n",
              "      <td>0.0</td>\n",
              "      <td>21</td>\n",
              "    </tr>\n",
              "    <tr>\n",
              "      <th>(2, 368)</th>\n",
              "      <td>0</td>\n",
              "      <td>0</td>\n",
              "      <td>0.0</td>\n",
              "      <td>0.0</td>\n",
              "      <td>45</td>\n",
              "    </tr>\n",
              "    <tr>\n",
              "      <th>(2, 446)</th>\n",
              "      <td>0</td>\n",
              "      <td>0</td>\n",
              "      <td>0.0</td>\n",
              "      <td>0.0</td>\n",
              "      <td>42</td>\n",
              "    </tr>\n",
              "    <tr>\n",
              "      <th>(2, 456)</th>\n",
              "      <td>0</td>\n",
              "      <td>0</td>\n",
              "      <td>0.0</td>\n",
              "      <td>0.0</td>\n",
              "      <td>84</td>\n",
              "    </tr>\n",
              "    <tr>\n",
              "      <th>(2, 510)</th>\n",
              "      <td>0</td>\n",
              "      <td>0</td>\n",
              "      <td>0.0</td>\n",
              "      <td>0.0</td>\n",
              "      <td>51</td>\n",
              "    </tr>\n",
              "  </tbody>\n",
              "</table>\n",
              "</div>\n",
              "      <button class=\"colab-df-convert\" onclick=\"convertToInteractive('df-ca14a266-d82a-4f71-b4f7-a87efb131f28')\"\n",
              "              title=\"Convert this dataframe to an interactive table.\"\n",
              "              style=\"display:none;\">\n",
              "        \n",
              "  <svg xmlns=\"http://www.w3.org/2000/svg\" height=\"24px\"viewBox=\"0 0 24 24\"\n",
              "       width=\"24px\">\n",
              "    <path d=\"M0 0h24v24H0V0z\" fill=\"none\"/>\n",
              "    <path d=\"M18.56 5.44l.94 2.06.94-2.06 2.06-.94-2.06-.94-.94-2.06-.94 2.06-2.06.94zm-11 1L8.5 8.5l.94-2.06 2.06-.94-2.06-.94L8.5 2.5l-.94 2.06-2.06.94zm10 10l.94 2.06.94-2.06 2.06-.94-2.06-.94-.94-2.06-.94 2.06-2.06.94z\"/><path d=\"M17.41 7.96l-1.37-1.37c-.4-.4-.92-.59-1.43-.59-.52 0-1.04.2-1.43.59L10.3 9.45l-7.72 7.72c-.78.78-.78 2.05 0 2.83L4 21.41c.39.39.9.59 1.41.59.51 0 1.02-.2 1.41-.59l7.78-7.78 2.81-2.81c.8-.78.8-2.07 0-2.86zM5.41 20L4 18.59l7.72-7.72 1.47 1.35L5.41 20z\"/>\n",
              "  </svg>\n",
              "      </button>\n",
              "      \n",
              "  <style>\n",
              "    .colab-df-container {\n",
              "      display:flex;\n",
              "      flex-wrap:wrap;\n",
              "      gap: 12px;\n",
              "    }\n",
              "\n",
              "    .colab-df-convert {\n",
              "      background-color: #E8F0FE;\n",
              "      border: none;\n",
              "      border-radius: 50%;\n",
              "      cursor: pointer;\n",
              "      display: none;\n",
              "      fill: #1967D2;\n",
              "      height: 32px;\n",
              "      padding: 0 0 0 0;\n",
              "      width: 32px;\n",
              "    }\n",
              "\n",
              "    .colab-df-convert:hover {\n",
              "      background-color: #E2EBFA;\n",
              "      box-shadow: 0px 1px 2px rgba(60, 64, 67, 0.3), 0px 1px 3px 1px rgba(60, 64, 67, 0.15);\n",
              "      fill: #174EA6;\n",
              "    }\n",
              "\n",
              "    [theme=dark] .colab-df-convert {\n",
              "      background-color: #3B4455;\n",
              "      fill: #D2E3FC;\n",
              "    }\n",
              "\n",
              "    [theme=dark] .colab-df-convert:hover {\n",
              "      background-color: #434B5C;\n",
              "      box-shadow: 0px 1px 3px 1px rgba(0, 0, 0, 0.15);\n",
              "      filter: drop-shadow(0px 1px 2px rgba(0, 0, 0, 0.3));\n",
              "      fill: #FFFFFF;\n",
              "    }\n",
              "  </style>\n",
              "\n",
              "      <script>\n",
              "        const buttonEl =\n",
              "          document.querySelector('#df-ca14a266-d82a-4f71-b4f7-a87efb131f28 button.colab-df-convert');\n",
              "        buttonEl.style.display =\n",
              "          google.colab.kernel.accessAllowed ? 'block' : 'none';\n",
              "\n",
              "        async function convertToInteractive(key) {\n",
              "          const element = document.querySelector('#df-ca14a266-d82a-4f71-b4f7-a87efb131f28');\n",
              "          const dataTable =\n",
              "            await google.colab.kernel.invokeFunction('convertToInteractive',\n",
              "                                                     [key], {});\n",
              "          if (!dataTable) return;\n",
              "\n",
              "          const docLinkHtml = 'Like what you see? Visit the ' +\n",
              "            '<a target=\"_blank\" href=https://colab.research.google.com/notebooks/data_table.ipynb>data table notebook</a>'\n",
              "            + ' to learn more about interactive tables.';\n",
              "          element.innerHTML = '';\n",
              "          dataTable['output_type'] = 'display_data';\n",
              "          await google.colab.output.renderOutput(dataTable, element);\n",
              "          const docLink = document.createElement('div');\n",
              "          docLink.innerHTML = docLinkHtml;\n",
              "          element.appendChild(docLink);\n",
              "        }\n",
              "      </script>\n",
              "    </div>\n",
              "  </div>\n",
              "  "
            ]
          },
          "metadata": {},
          "execution_count": 131
        }
      ],
      "source": [
        "df_2[:10]"
      ]
    }
  ],
  "metadata": {
    "colab": {
      "provenance": [],
      "authorship_tag": "ABX9TyOokSoogYKguVcI3Ecg7Kqg",
      "include_colab_link": true
    },
    "kernelspec": {
      "display_name": "Python 3",
      "name": "python3"
    },
    "language_info": {
      "name": "python"
    }
  },
  "nbformat": 4,
  "nbformat_minor": 0
}